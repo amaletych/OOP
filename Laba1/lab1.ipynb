{
 "cells": [
  {
   "cell_type": "code",
   "execution_count": 1,
   "metadata": {},
   "outputs": [
    {
     "name": "stdout",
     "output_type": "stream",
     "text": [
      ">*<>*<>*<>*<>*<>*<>*<>*<>*<>*<>*<>*<>*<>*<>*<>*<>*<>*<>*<>*<\n",
      "Андрій почав програмувати 08.12.2024 12:47:39. \n",
      "Львів — чудове місто для роботи та натхнення!\n",
      "<*><*><*><*><*><*><*><*><*><*><*><*><*><*><*><*><*><*><*><*>\n"
     ]
    }
   ],
   "source": [
    "from datetime import datetime\n",
    "\n",
    "# Змінні з інформацією\n",
    "name = \"Андрій\"\n",
    "location = \"Львів\"\n",
    "activity = \"програмувати\"\n",
    "\n",
    "# Отримуємо поточний час у форматі \"день.місяць.рік години:хвилини\"\n",
    "current_time = datetime.now().strftime(\"%d.%m.%Y %H:%M:%S\")\n",
    "\n",
    "# Вивід інформації\n",
    "print(f\"\"\"{\">*<\"*20}\n",
    "{name} почав {activity} {current_time}. \n",
    "{location} — чудове місто для роботи та натхнення!\n",
    "{\"<*>\"*20}\"\"\")\n"
   ]
  }
 ],
 "metadata": {
  "kernelspec": {
   "display_name": "Python 3",
   "language": "python",
   "name": "python3"
  },
  "language_info": {
   "codemirror_mode": {
    "name": "ipython",
    "version": 3
   },
   "file_extension": ".py",
   "mimetype": "text/x-python",
   "name": "python",
   "nbconvert_exporter": "python",
   "pygments_lexer": "ipython3",
   "version": "3.13.0"
  }
 },
 "nbformat": 4,
 "nbformat_minor": 2
}
